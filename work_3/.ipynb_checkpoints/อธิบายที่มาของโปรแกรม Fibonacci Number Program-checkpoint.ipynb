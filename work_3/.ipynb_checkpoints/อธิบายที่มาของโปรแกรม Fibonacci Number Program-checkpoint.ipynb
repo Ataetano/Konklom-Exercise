{
 "cells": [
  {
   "cell_type": "markdown",
   "id": "2fb061b1",
   "metadata": {},
   "source": [
    "## Fibonacci Number Program Without Any Loop\n",
    "นายคณัสนันท์ ทรัพย์อุดม\n",
    "___"
   ]
  },
  {
   "cell_type": "markdown",
   "id": "3ebb2691",
   "metadata": {},
   "source": [
    "### แนวคิดของการเขียนโปรแกมโดยไม่ให้มี Loop เกิดขึ้น\n",
    "#### Step 1: วิเคราะห์แนวคิดการเขียน Fibonacci Number แบบใช้ Loop\n",
    "หากพิจารณาแนวคิดการเขียนโปรแกรมคำนวณ Fibonacci Number เราจะพบว่าตัวโปรแกรมที่ใช้ Loop โดยส่วนมากจะใช้วิธีการที่สามารถเขียนเป็นโมเดลได้ดังนี้\n",
    "\n",
    "$$ F_n = F_{n - 1} + F_{n - 2} $$\n",
    "\n",
    "เมื่อ $F_1 = 1$ และ $F_2 = 1$\n",
    "\n",
    "โดยโปรแกรมข้างล่างนี้เป็นตัวอย่างการเขียนโปรแกรมแบบใช้ Loop "
   ]
  },
  {
   "cell_type": "code",
   "execution_count": 1,
   "id": "9bf45513",
   "metadata": {},
   "outputs": [
    {
     "name": "stdout",
     "output_type": "stream",
     "text": [
      "1\n",
      "1\n",
      "2\n",
      "3\n",
      "5\n",
      "8\n",
      "13\n",
      "21\n",
      "34\n",
      "55\n",
      "89\n",
      "144\n",
      "233\n",
      "377\n",
      "610\n",
      "987\n",
      "1597\n",
      "2584\n",
      "4181\n",
      "6765\n"
     ]
    }
   ],
   "source": [
    "def FN(n):\n",
    "    F_a = 1\n",
    "    F_b = 1\n",
    "    if n <= 1:\n",
    "        F_n = F_a\n",
    "    else:\n",
    "        for i in range(n - 1):\n",
    "            F_n = F_a + F_b\n",
    "            F_a = F_b\n",
    "            F_b = F_n\n",
    "    return F_n\n",
    "test = 20\n",
    "for i in range(0, test):\n",
    "    print(FN(i))"
   ]
  },
  {
   "cell_type": "markdown",
   "id": "81ced2cf",
   "metadata": {},
   "source": [
    "หากเราสังเกตลักษณะสัดส่วนระหว่างตัวเลขที่ $ F_{n - 1} $ และ $ F_{n - 2} $  ที่เกิดจากโปรแกรมตั้งแต่สมาชิกตัวที่ 1 เป็นต้นไป เราจะค้นพบการลู่เข้าของเลขแปลกๆ ดังนี้"
   ]
  },
  {
   "cell_type": "code",
   "execution_count": 2,
   "id": "c6937493",
   "metadata": {},
   "outputs": [
    {
     "name": "stdout",
     "output_type": "stream",
     "text": [
      "2.0\n",
      "1.5\n",
      "1.6666666666666667\n",
      "1.6\n",
      "1.625\n",
      "1.6153846153846154\n",
      "1.619047619047619\n",
      "1.6176470588235294\n",
      "1.6181818181818182\n",
      "1.6179775280898876\n",
      "1.6180555555555556\n",
      "1.6180257510729614\n",
      "1.6180371352785146\n",
      "1.618032786885246\n",
      "1.618034447821682\n",
      "1.6180338134001253\n",
      "1.618034055727554\n",
      "1.6180339631667064\n",
      "1.6180339985218033\n"
     ]
    }
   ],
   "source": [
    "for i in range(1, test):\n",
    "    print(FN(i + 1)/FN(i))"
   ]
  },
  {
   "cell_type": "markdown",
   "id": "61a4c20d",
   "metadata": {},
   "source": [
    "เนื่องจากผลลัพธ์ดังกล่าวที่เราพบมันบังเอิญสามารถเขียนอยู่ในรูปสมการดังต่อไปนี้ได้\n",
    "\n",
    "$$ \\frac{F_{n - 1}}{F_{n - 2}} \\approx 1.618033988749895 $$\n",
    "\n",
    "ในทำนองเดียวกับ ถ้าเราเลื่อนลำดับ n ขึ้นมาอีก 1 ระดับ ค่าสัดส่วนระหว่างตัวเลขทั้ง 2 ตัวเลขก็จะยังให้ผลลัพธ์ลู่เข้าเลขนี้ดังต่อไปนี้\n",
    "\n",
    "$$ \\frac{F_n}{F_{n - 1}} \\approx 1.618033988749895 $$\n",
    "\n",
    "เพื่อความสะดวกเราจะขอเขียนเลขทางขวามือในรูปเศษส่วนดังนี้\n",
    "\n",
    "$$ \\frac{F_n}{F_{n - 1}} \\approx \\frac{1 + \\sqrt{5}}{2} $$\n",
    "\n",
    "จากสมการโดยประมาณข้างต้น หากเราคูณเข้าทั้งสมการค่าโดยประมาณด้วย $F_{n - 1}$ เราจะได้ว่า \n",
    "$$ F_n \\approx \\left( \\frac{1 + \\sqrt{5}}{2}\\right) F_{n - 1} $$\n",
    "\n",
    "ในการวิเคราะห์เบื้องต้นเราสามารถประมาณค่า Fibonacci Number ได้ดังนี้"
   ]
  },
  {
   "cell_type": "code",
   "execution_count": 3,
   "id": "795d8d5b",
   "metadata": {},
   "outputs": [
    {
     "name": "stdout",
     "output_type": "stream",
     "text": [
      "1\n",
      "1\n",
      "1.618033988749895\n",
      "2.618033988749895\n",
      "4.23606797749979\n",
      "6.854101966249685\n",
      "11.090169943749475\n",
      "17.94427190999916\n",
      "29.034441853748636\n",
      "46.9787137637478\n",
      "76.01315561749644\n",
      "122.99186938124424\n",
      "199.00502499874068\n",
      "321.99689437998495\n",
      "521.0019193787257\n",
      "842.9988137587106\n",
      "1364.0007331374363\n",
      "2206.999546896147\n",
      "3571.0002800335833\n",
      "5777.99982692973\n"
     ]
    }
   ],
   "source": [
    "def FNA(n):\n",
    "    F_a = 1\n",
    "    if n <= 1:\n",
    "        F_n = F_a\n",
    "    else:\n",
    "        for i in range(n - 1):\n",
    "            F_n = ((1 + 5**(1/2))/2)*F_a\n",
    "            F_a = F_n\n",
    "    return F_n\n",
    "test = 20\n",
    "for i in range(0, test):\n",
    "    print(FNA(i))"
   ]
  },
  {
   "cell_type": "markdown",
   "id": "96642ba5",
   "metadata": {},
   "source": [
    "#### Step 2: หา Error ที่เกิดจากการประมาณค่า\n",
    "จาก Step 1 เราสามารถประมาณค่า Fibonacci Number ได้จากค่าต่อไปนี้\n",
    "\n",
    "$$ F_n \\approx \\left(\\frac{1 + \\sqrt{5}}{2}\\right)F_{n - 1} $$\n",
    "\n",
    "จากสูตรการหา Error นั้นคือ \"ค่าจริง - ค่าประมาณ\" ทำให้เราได้สมการว่า\n",
    "\n",
    "$$ E_n = F_n - \\left(\\frac{1 + \\sqrt{5}}{2}\\right)F_{n - 1} $$\n",
    "\n",
    "แทนค่า $ F_n = F_{n - 1} + F_{n - 2} $ ลงไปใน $ E_n $ และค่อยๆ คำนวณไปที Step เราจะได้ \n",
    "\n",
    "(กำหนดให้ $-0.61803398875 \\approx \\frac{1 - \\sqrt{5}}{2}$ และ $\\frac{-2}{1 - \\sqrt{5}} = \\frac{1 + \\sqrt{5}}{2}$)\n",
    "\n",
    "$$ \n",
    "\\begin{aligned}\n",
    "E_n &= F_{n - 1} + F_{n - 2} - \\left(\\frac{1 + \\sqrt{5}}{2}\\right)F_{n - 1} \\\\\n",
    "&= F_{n - 2} + \\left(F_{n - 1} - \\left(\\frac{1 + \\sqrt{5}}{2}\\right)F_{n - 1}\\right) \\\\\n",
    "&= F_{n - 2} + \\left(1 - \\frac{1 + \\sqrt{5}}{2}\\right)F_{n - 1} \\\\\n",
    "&= F_{n - 2} + (-0.61803398875)F_{n - 1} \\\\\n",
    "&= F_{n - 2} + \\left( \\frac{1 - \\sqrt{5}}{2} \\right)F_{n - 1} \\\\\n",
    "&= \\frac{1 - \\sqrt{5}}{2} \\left( \\left( \\frac{2}{1 - \\sqrt{5}} \\right) F_{n - 2} + F_{n - 1}\\right) \\\\\n",
    "&= \\frac{1 - \\sqrt{5}}{2} \\left(F_{n - 1} - \\left( \\frac{-2}{1 - \\sqrt{5}} \\right) F_{n - 2}\\right) \\\\\n",
    "&= \\frac{1 - \\sqrt{5}}{2} \\left(F_{n - 1} - \\left( \\frac{1 + \\sqrt{5}}{2} \\right) F_{n - 2}\\right) \n",
    "\\end{aligned}\n",
    "$$\n",
    "\n",
    "พิจารณา $ F_{n - 1} - \\left( \\frac{1 + \\sqrt{5}}{2} \\right) F_{n - 2} $ จะได้ว่า $ E_{n - 1} = F_{n - 1} - \\left( \\frac{1 + \\sqrt{5}}{2} \\right) F_{n - 2} $ ซึ่งทำให้\n",
    "$$ E_n = \\left(\\frac{1 - \\sqrt{5}}{2}\\right) E_{n - 1} $$\n",
    "\n",
    "เนื่องจาก $E_{n - 1} = \\left(\\frac{1 - \\sqrt{5}}{2}\\right) E_{n - 2} = \\left(\\frac{1 - \\sqrt{5}}{2}\\right)^2 E_{n - 3} = \\left(\\frac{1 - \\sqrt{5}}{2}\\right)^3 E_{n - 4} = \\dots = \\left(\\frac{1 - \\sqrt{5}}{2}\\right)^{n - 3}E_2$\n",
    "\n",
    "ดังนั้น \n",
    "\n",
    "$$ E_n = \\left(\\frac{1 - \\sqrt{5}}{2}\\right)^{n - 2}E_2 $$\n",
    "\n",
    "เนื่องจาก $E_2 = F_2 - \\left(\\frac{1 + \\sqrt{5}}{2}\\right)F_1$ เราจะได้ว่า\n",
    "$$ \n",
    "\\begin{aligned}\n",
    "E_n &= \\left(\\frac{1 - \\sqrt{5}}{2}\\right)^{n - 2}\\left(F_2 - \\left(\\frac{1 + \\sqrt{5}}{2}\\right)F_1\\right) \\\\\n",
    "&= \\left(\\frac{1 - \\sqrt{5}}{2}\\right)^{n - 2}\\left(1 - \\left(\\frac{1 + \\sqrt{5}}{2}\\right)\\right) \\\\\n",
    "&= \\left(\\frac{1 - \\sqrt{5}}{2}\\right)^{n - 2}\\left(\\frac{1 - \\sqrt{5}}{2}\\right) \\\\\n",
    "&= \\left(\\frac{1 - \\sqrt{5}}{2}\\right)^{n - 1} \\\\\n",
    "\\end{aligned}\n",
    "$$\n",
    "สรุปได้ว่า เราจะหา Error ความคลาดเคลื่อนของ Fibonacci Number ได้จาก\n",
    "$$ E_n = \\left(\\frac{1 - \\sqrt{5}}{2}\\right)^{n - 1} \\\\ $$"
   ]
  },
  {
   "cell_type": "code",
   "execution_count": 8,
   "id": "a2284bb4",
   "metadata": {},
   "outputs": [
    {
     "name": "stdout",
     "output_type": "stream",
     "text": [
      "FN(0) = 1.0000 | FNA(0) = 1.0000 | Error = -1.6180 | FNA + Error = -0.6180 | Real diff = 1.6180\n",
      "FN(1) = 1.0000 | FNA(1) = 1.0000 | Error = 1.0000 | FNA + Error = 2.0000 | Real diff = -1.0000\n",
      "FN(2) = 2.0000 | FNA(2) = 1.6180 | Error = -0.6180 | FNA + Error = 1.0000 | Real diff = 1.0000\n",
      "FN(3) = 3.0000 | FNA(3) = 2.6180 | Error = 0.3820 | FNA + Error = 3.0000 | Real diff = 0.0000\n",
      "FN(4) = 5.0000 | FNA(4) = 4.2361 | Error = -0.2361 | FNA + Error = 4.0000 | Real diff = 1.0000\n",
      "FN(5) = 8.0000 | FNA(5) = 6.8541 | Error = 0.1459 | FNA + Error = 7.0000 | Real diff = 1.0000\n",
      "FN(6) = 13.0000 | FNA(6) = 11.0902 | Error = -0.0902 | FNA + Error = 11.0000 | Real diff = 2.0000\n",
      "FN(7) = 21.0000 | FNA(7) = 17.9443 | Error = 0.0557 | FNA + Error = 18.0000 | Real diff = 3.0000\n",
      "FN(8) = 34.0000 | FNA(8) = 29.0344 | Error = -0.0344 | FNA + Error = 29.0000 | Real diff = 5.0000\n",
      "FN(9) = 55.0000 | FNA(9) = 46.9787 | Error = 0.0213 | FNA + Error = 47.0000 | Real diff = 8.0000\n",
      "FN(10) = 89.0000 | FNA(10) = 76.0132 | Error = -0.0132 | FNA + Error = 76.0000 | Real diff = 13.0000\n",
      "FN(11) = 144.0000 | FNA(11) = 122.9919 | Error = 0.0081 | FNA + Error = 123.0000 | Real diff = 21.0000\n",
      "FN(12) = 233.0000 | FNA(12) = 199.0050 | Error = -0.0050 | FNA + Error = 199.0000 | Real diff = 34.0000\n",
      "FN(13) = 377.0000 | FNA(13) = 321.9969 | Error = 0.0031 | FNA + Error = 322.0000 | Real diff = 55.0000\n",
      "FN(14) = 610.0000 | FNA(14) = 521.0019 | Error = -0.0019 | FNA + Error = 521.0000 | Real diff = 89.0000\n",
      "FN(15) = 987.0000 | FNA(15) = 842.9988 | Error = 0.0012 | FNA + Error = 843.0000 | Real diff = 144.0000\n",
      "FN(16) = 1597.0000 | FNA(16) = 1364.0007 | Error = -0.0007 | FNA + Error = 1364.0000 | Real diff = 233.0000\n",
      "FN(17) = 2584.0000 | FNA(17) = 2206.9995 | Error = 0.0005 | FNA + Error = 2207.0000 | Real diff = 377.0000\n",
      "FN(18) = 4181.0000 | FNA(18) = 3571.0003 | Error = -0.0003 | FNA + Error = 3571.0000 | Real diff = 610.0000\n",
      "FN(19) = 6765.0000 | FNA(19) = 5777.9998 | Error = 0.0002 | FNA + Error = 5778.0000 | Real diff = 987.0000\n"
     ]
    }
   ],
   "source": [
    "def FE(n):\n",
    "    return ((1 - 5**(1/2))/2)**(n - 1)\n",
    "test = 20\n",
    "for i in range(0, test):\n",
    "    print(f\"FN({i}) = {FN(i):.4f} | FNA({i}) = {FNA(i):.4f} | Error = {FE(i):.4f} | FNA + Error = {(FNA(i) + FE(i)):.4f} | Real diff = {(FN(i) - (FNA(i) + FE(i))):.4f}\")"
   ]
  },
  {
   "cell_type": "markdown",
   "id": "f9e3ab0c",
   "metadata": {},
   "source": [
    "#### Step 3: วิเคราะห์พฤติกรรมของฟังก์ชัน Fibonacci Number\n",
    "เรากลับมาพิจารณา $ E_n = F_n - \\left(\\frac{1 + \\sqrt{5}}{2}\\right)F_{n - 1} $ เราจะได้ \n",
    "\n",
    "$$ F_n = E_n + \\left(\\frac{1 + \\sqrt{5}}{2}\\right)F_{n - 1} $$\n",
    "\n",
    "นั้นคือ\n",
    "\n",
    "$$ F_n = \\left(\\frac{1 - \\sqrt{5}}{2}\\right)^{n - 1} + \\left(\\frac{1 + \\sqrt{5}}{2}\\right)F_{n - 1} $$\n",
    "\n",
    "เนื่องจาก $F_{n - 1} = \\left(\\frac{1 - \\sqrt{5}}{2}\\right)^{n - 2} + \\left(\\frac{1 + \\sqrt{5}}{2}\\right)F_{n - 2} = \\left(\\frac{1 - \\sqrt{5}}{2}\\right)^{n - 2} + \\left(\\frac{1 + \\sqrt{5}}{2}\\right)\\left[\\left(\\frac{1 - \\sqrt{5}}{2}\\right)^{n - 3} + \\left(\\frac{1 + \\sqrt{5}}{2}\\right)F_{n - 3}\\right] = \\dots$\n",
    "\n",
    "โดยถ้าเราแทนค่า $F_{n - 1}$ ลงไปใน $F_n$ เราจะได้ว่า\n",
    "\n",
    "$$ F_n = \\left(\\frac{1 - \\sqrt{5}}{2}\\right)^{n - 1} + \\left(\\frac{1 + \\sqrt{5}}{2}\\right)\\left(\\frac{1 - \\sqrt{5}}{2}\\right)^{n - 2} + \\dots + \\left(\\frac{1 + \\sqrt{5}}{2}\\right)^{n - 2}\\left(\\frac{1 - \\sqrt{5}}{2}\\right) + \\left(\\frac{1 - \\sqrt{5}}{2}\\right)^{n - 1} $$\n",
    "\n",
    "โดยสำหรับแต่ละเทอมที่ถูกขั้นด้วย + เราจะสามารถหาสัดส่วนของเทอมที่ $k - 1$ และ เทอมที่ $k - 2$ ได้ดังนี้\n",
    "$$ \\frac{\\left(\\frac{1 + \\sqrt{5}}{2}\\right)^{n - k}\\left(\\frac{1 - \\sqrt{5}}{2}\\right)^{k - 1}}{\\left(\\frac{1 + \\sqrt{5}}{2}\\right)^{n - k + 1}\\left(\\frac{1 - \\sqrt{5}}{2}\\right)^{k - 2}} = \\frac{\\left(\\frac{1 + \\sqrt{5}}{2}\\right)}{\\left(\\frac{1 - \\sqrt{5}}{2}\\right)} = \\frac{1 - \\sqrt{5}}{1 + \\sqrt{5}}$$\n",
    "\n",
    "จากข้างต้นเป็นการยืนยันได้ว่า เราสามารถสร้าง function โดยไม่จำเป็นต้องลูปได้เนื่องจากผลลัพธ์ของฟังก์ชัน Fibonacci Number มีสัดส่วนระหว่างสมาชิกแต่ละตัวเป็นค่าคงที่ตัวหนึ่ง อีกทั้งยังเป็น finite geometric series ซึ่งจะทำให้เราได้แม่แบบสำหรับสร้าง function ในอนาคต"
   ]
  },
  {
   "cell_type": "markdown",
   "id": "26dbbed0",
   "metadata": {},
   "source": [
    "#### Step 4: สร้าง function ทำ Fibonacci Number โดยไม่ใช้ Loop\n",
    "พิจารณาจาก Step 3 ฟังก์ชัน $F_n$ เป็น finite geometric series จากทฤษฎีทางคณิตศาสตร์ ซึ่งมีสูตรว่า\n",
    "$$ \\sum_{k=1}^{n}a_k = \\frac{a_1(1 - r^n)}{1 - r} $$\n",
    "\n",
    "บังเอิงว่าเราทราบว่า r ในที่นี้เป็น ratio หรือก็คือสัดส่วนของเทอมที่ $k - 1$ และ เทอมที่ $k - 2$ ที่ให้ผลลัพธ์เป็น $ r = \\frac{1 - \\sqrt{5}}{1 + \\sqrt{5}}$ และจาก $ F_n $ ใน Step 3 ยังแสดงให้เห็นอีกว่าเทอมแรกของ function เป็น $ a_1 = \\left(\\frac{1 - \\sqrt{5}}{2}\\right)^{n - 1}$ \n",
    "ดังนั้นเราจะได้ว่า\n",
    "$$ F_n = \\frac{\\left(\\frac{1 - \\sqrt{5}}{2}\\right)^{n - 1}\\left[ 1 - \\left(\\frac{1 - \\sqrt{5}}{1 + \\sqrt{5}}\\right)^n\\right]}{1 - \\frac{1 - \\sqrt{5}}{1 + \\sqrt{5}}}$$\n",
    "\n",
    "ซึ่งเราสามารถจัดให้อยู่ในรูป\n",
    "$$ F_n = \\frac{\\left(\\frac{1 + \\sqrt{5}}{2}\\right)^n - \\left(\\frac{1 - \\sqrt{5}}{2}\\right)^n}{\\sqrt{5}} $$\n",
    "\n",
    "ดังนั้นเราสามารถเขียนฟังก์ชันนี้ลงไปใน Program ของเราได้เลย"
   ]
  },
  {
   "cell_type": "code",
   "execution_count": 19,
   "id": "02eb61b2",
   "metadata": {},
   "outputs": [
    {
     "name": "stdout",
     "output_type": "stream",
     "text": [
      " NoLoopFP(1) = 1 | FP(1) = 1\n",
      " NoLoopFP(2) = 1 | FP(2) = 1\n",
      " NoLoopFP(3) = 2 | FP(3) = 2\n",
      " NoLoopFP(4) = 3 | FP(4) = 3\n",
      " NoLoopFP(5) = 5 | FP(5) = 5\n",
      " NoLoopFP(6) = 8 | FP(6) = 8\n",
      " NoLoopFP(7) = 13 | FP(7) = 13\n",
      " NoLoopFP(8) = 21 | FP(8) = 21\n",
      " NoLoopFP(9) = 34 | FP(9) = 34\n",
      " NoLoopFP(10) = 55 | FP(10) = 55\n",
      " NoLoopFP(11) = 89 | FP(11) = 89\n",
      " NoLoopFP(12) = 144 | FP(12) = 144\n",
      " NoLoopFP(13) = 233 | FP(13) = 233\n",
      " NoLoopFP(14) = 377 | FP(14) = 377\n",
      " NoLoopFP(15) = 610 | FP(15) = 610\n",
      " NoLoopFP(16) = 987 | FP(16) = 987\n",
      " NoLoopFP(17) = 1597 | FP(17) = 1597\n",
      " NoLoopFP(18) = 2584 | FP(18) = 2584\n",
      " NoLoopFP(19) = 4181 | FP(19) = 4181\n",
      " NoLoopFP(20) = 6765 | FP(20) = 6765\n"
     ]
    }
   ],
   "source": [
    "def NoLoopFP(n):\n",
    "    return (((1 + 5**(1/2))/2)**n - ((1 - 5**(1/2))/2)**n)/(5**(1/2))\n",
    "test = 20\n",
    "for i in range(1, test + 1):\n",
    "    print(f\" NoLoopFP({i}) = {NoLoopFP(i):.0f} | FP({i}) = {FN(i - 1)}\")"
   ]
  },
  {
   "cell_type": "code",
   "execution_count": null,
   "id": "0fe2119f",
   "metadata": {},
   "outputs": [],
   "source": []
  }
 ],
 "metadata": {
  "kernelspec": {
   "display_name": "Python 3 (ipykernel)",
   "language": "python",
   "name": "python3"
  },
  "language_info": {
   "codemirror_mode": {
    "name": "ipython",
    "version": 3
   },
   "file_extension": ".py",
   "mimetype": "text/x-python",
   "name": "python",
   "nbconvert_exporter": "python",
   "pygments_lexer": "ipython3",
   "version": "3.9.7"
  }
 },
 "nbformat": 4,
 "nbformat_minor": 5
}
